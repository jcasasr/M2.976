{
 "cells": [
  {
   "cell_type": "markdown",
   "metadata": {},
   "source": [
    "<div style=\"width: 100%; clear: both;\">\n",
    "<div style=\"float: left; width: 50%;\">\n",
    "<img src=\"http://www.uoc.edu/portal/_resources/common/imatges/marca_UOC/UOC_Masterbrand.jpg\" align=\"left\"/>\n",
    "</div>\n",
    "</div>\n",
    "<div style=\"float: right; width: 50%;\">\n",
    "<p style=\"margin: 0; padding-top: 22px; text-align:right;\">M2.856 · Anàlisi de sentiments i xarxes socials</p>\n",
    "<p style=\"margin: 0; text-align:right;\">Màster universitari de Ciència de Dades (<i>Data Science</i>)</p>\n",
    "<p style=\"margin: 0; text-align:right; padding-button: 100px;\">Estudis d'Informàtica, Multimèdia i Telecomunicació</p>\n",
    "</div>\n",
    "</div>\n",
    "<div style=\"width: 100%; clear: both;\">\n",
    "<div style=\"width:100%;\">&nbsp;</div>\n",
    "    \n",
    "# Anàlisi de sentiments i xarxes socials\n",
    "## PLA4: Representació de xarxes socials com a grafs"
   ]
  },
  {
   "cell_type": "markdown",
   "metadata": {},
   "source": [
    "# Introducció a NetworkX\n",
    "\n",
    "NetworkX és un dels paquets de Python més populars per a la creació, manipulació i estudi de l'estructura de les xarxes complexes en general (i les xarxes socials en particular).\n",
    "\n",
    "Al nivell més bàsic, una xarxa es compon de dos elements\n",
    "\n",
    "* Els subjectes representats, anomenats *nodes* (**nodes**).\n",
    "* Les relacions entre ells, anomenades  *arestes* (**edges**).\n",
    "\n",
    "## PRIMERS PASSOS\n",
    "\n",
    "Importar **networkx** i crear un graf *buit*."
   ]
  },
  {
   "cell_type": "code",
   "execution_count": 1,
   "metadata": {},
   "outputs": [],
   "source": [
    "import networkx as nx\n",
    "G = nx.Graph()"
   ]
  },
  {
   "cell_type": "markdown",
   "metadata": {},
   "source": [
    "Un **Graph** o *graf* és un conjunt de nodes relacionats per parells (mitjançant les seves arestes, enllaços o relacions). A NetworkX, els nodes es poden formar a partir de gairebé qualsevol objecte:\n",
    "\n",
    "- Cadenes de text (strings).\n",
    "- Imatges.\n",
    "- Objectes XML.\n",
    "- Altres grafs.\n",
    "- Etc.\n",
    "\n",
    "Els grafs es poden construir de diverses maneres. \n",
    "\n",
    "## NODES (NODES)\n",
    "\n",
    "Començarem veient com s'incorporen nodes de manera simple."
   ]
  },
  {
   "cell_type": "code",
   "execution_count": 2,
   "metadata": {},
   "outputs": [
    {
     "name": "stdout",
     "output_type": "stream",
     "text": [
      "1. El graf G té els nodes: [1]\n",
      "2. El graf G té els nodes: [1, 2, 3, 4, 5]\n"
     ]
    }
   ],
   "source": [
    "G.clear() #Reiniciamos G.\n",
    "\n",
    "# Per exemple, d'un en un\n",
    "\n",
    "G.add_node(1)\n",
    "print(\"1. El graf G té els nodes: \" + str(list(G.nodes())))\n",
    "\n",
    "# O amb una llista\n",
    "\n",
    "G.add_nodes_from([1,2,3,4,5])\n",
    "print(\"2. El graf G té els nodes: \" + str(list(G.nodes())))\n",
    "\n",
    "# Observeu que s'ha intentat tornar a inserir el node 1 però ni s'ha duplicat ni ha retornat error, simplement s'ha ignorat"
   ]
  },
  {
   "cell_type": "markdown",
   "metadata": {},
   "source": [
    "## ARISTAS (EDGES)\n",
    "\n",
    "Les arestes funcionen de manera molt similar."
   ]
  },
  {
   "cell_type": "code",
   "execution_count": 3,
   "metadata": {},
   "outputs": [
    {
     "name": "stdout",
     "output_type": "stream",
     "text": [
      "1. El graf G té les arestes: [(1, 2)]\n",
      "2. El graf G té les arestes: [(1, 2), (1, 3)]\n"
     ]
    }
   ],
   "source": [
    "# Afegim una aresta sense atributs. Ara com ara, és un Graph() i, per tant, NO és direccional.\n",
    "\n",
    "G.add_edge(1, 2) # Crea un enllaç entre 1 i 2.\n",
    "print(\"1. El graf G té les arestes: \" + str(list(G.edges())))\n",
    "\n",
    "# També podem afegir una llista d'arestes.\n",
    "\n",
    "G.add_edges_from([(1, 2), (1, 3)])\n",
    "print(\"2. El graf G té les arestes: \" + str(list(G.edges())))\n",
    "\n",
    "# De nou, les arestes ja existents no es dupliquen ni donen error; s'ignoren.  "
   ]
  },
  {
   "cell_type": "markdown",
   "metadata": {},
   "source": [
    "Però, què passa si afegim una aresta entre nodes que no existeixen en el graf? Comprovem-ho."
   ]
  },
  {
   "cell_type": "code",
   "execution_count": 4,
   "metadata": {},
   "outputs": [
    {
     "name": "stdout",
     "output_type": "stream",
     "text": [
      "Nodes inicials: [1, 2, 3, 4, 5]\n",
      "Arestes inicials: [(1, 2), (1, 3)]\n",
      "Nodes finals: [1, 2, 3, 4, 5, 6, 7, 8]\n",
      "Arestes finals: [(1, 2), (1, 3), (1, 6), (7, 8)]\n"
     ]
    }
   ],
   "source": [
    "print(\"Nodes inicials: \" + str(list(G.nodes())))\n",
    "print(\"Arestes inicials: \" + str(list(G.edges())))\n",
    "\n",
    "#Afegim una aresta entre 1 (que sí que hi és) i 6 (que no) i una altra entre 7 i 8 (cap es troba entre els nodes inicials).\n",
    "\n",
    "G.add_edges_from([(1, 6), (7, 8)])\n",
    "\n",
    "print(\"Nodes finals: \" + str(list(G.nodes())))\n",
    "print(\"Arestes finals: \" + str(list(G.edges())))"
   ]
  },
  {
   "cell_type": "markdown",
   "metadata": {},
   "source": [
    "Així, comprovem que afegir arestes també crea els nodes necessaris. Cal ser cautelós amb la creació, ja que es poden produir generacions no desitjades en intentar establir un vincle entre dos nodes referenciats incorrectament sense adonar-nos-en.\n",
    "\n",
    "### Eliminar nodes o aristes\n",
    "\n",
    "Per a eliminar nodes o arestes hi ha les funcions inverses a les d'afegir. Substitueixen *add* per *remove*. "
   ]
  },
  {
   "cell_type": "code",
   "execution_count": 5,
   "metadata": {},
   "outputs": [
    {
     "name": "stdout",
     "output_type": "stream",
     "text": [
      "Nodes: [1, 2, 3, 4, 5, 6, 7, 8]\n",
      "Arestes: [(1, 2), (1, 3), (1, 6), (7, 8)]\n",
      "\n",
      "Afegim node 9 i dues arestes entre 10 i 11 (que es creen) i 8 i 9 (que ja existeixen)\n",
      "Nodes: [1, 2, 3, 4, 5, 6, 7, 8, 9, 10, 11]\n",
      "Arestes: [(1, 2), (1, 3), (1, 6), (7, 8), (8, 9), (10, 11)]\n",
      "\n",
      "Eliminem node 10 i aresta (8,9)\n",
      "Nodes: [1, 2, 3, 4, 5, 6, 7, 8, 9, 11]\n",
      "Arestes: [(1, 2), (1, 3), (1, 6), (7, 8)]\n",
      "\n",
      "En eliminar el node 10, ha eliminat automàticament l'aresta 10,11, però el node 11 continua estant aquí.\n",
      "Eliminar l'aresta 8, 9 no afecta els nodes, només el seu enllaç.\n",
      "\n",
      "Torna a l'estat inicial\n",
      "Nodes: [1, 2, 3, 4, 5, 6, 7, 8]\n",
      "Arestes: [(1, 2), (1, 3), (1, 6), (7, 8)]\n"
     ]
    }
   ],
   "source": [
    "print(\"Nodes: \" + str(list(G.nodes())))\n",
    "print(\"Arestes: \" + str(list(G.edges())))\n",
    "\n",
    "# Afegim node 9 i arestes (10,11) i (8,9)\n",
    "G.add_node(9)\n",
    "G.add_edges_from([(10, 11), (8, 9)])\n",
    "\n",
    "print(\"\\nAfegim node 9 i dues arestes entre 10 i 11 (que es creen) i 8 i 9 (que ja existeixen)\")\n",
    "print(\"Nodes: \" + str(list(G.nodes())))\n",
    "print(\"Arestes: \" + str(list(G.edges())))\n",
    "\n",
    "# Eliminem node 10 i aresta (8,9).\n",
    "G.remove_node(10)\n",
    "G.remove_edge(8, 9)\n",
    "\n",
    "print(\"\\nEliminem node 10 i aresta (8,9)\")\n",
    "print(\"Nodes: \" + str(list(G.nodes())))\n",
    "print(\"Arestes: \" + str(list(G.edges())))\n",
    "\n",
    "print(\"\\nEn eliminar el node 10, ha eliminat automàticament l'aresta 10,11, però el node 11 continua estant aquí.\")\n",
    "print(\"Eliminar l'aresta 8, 9 no afecta els nodes, només el seu enllaç.\")\n",
    "\n",
    "# Eliminamos nodos 9 y 11 que han quedado sin tocar.\n",
    "G.remove_nodes_from([9,11])\n",
    "\n",
    "print(\"\\nTorna a l'estat inicial\")\n",
    "print(\"Nodes: \" + str(list(G.nodes())))\n",
    "print(\"Arestes: \" + str(list(G.edges())))"
   ]
  },
  {
   "cell_type": "markdown",
   "metadata": {},
   "source": [
    "## GENERADORS\n",
    "\n",
    "Entrarem més endavant en aquest cas, però ara com ara només cal dir que NetworkX conté moltes funcions dedicades a generar automàticament diversos tipus de grafs comuns o habituals d'estudi. Per exemple, el [graf de Petersen](https://en.wikipedia.org/wiki/Petersen_graph \"Petersen Graph en Wikipedia.org\"):\n",
    "\n",
    "![alt text](https://upload.wikimedia.org/wikipedia/commons/thumb/9/91/Petersen1_tiny.svg/200px-Petersen1_tiny.svg.png \"Petersen Graph\")"
   ]
  },
  {
   "cell_type": "code",
   "execution_count": 6,
   "metadata": {},
   "outputs": [
    {
     "name": "stdout",
     "output_type": "stream",
     "text": [
      "El graf de Petersen té per nodes: [0, 1, 2, 3, 4, 5, 6, 7, 8, 9]\n",
      "El graf de Petersen té per arestes: [(0, 1), (0, 4), (0, 5), (1, 2), (1, 6), (2, 3), (2, 7), (3, 4), (3, 8), (4, 9), (5, 7), (5, 8), (6, 8), (6, 9), (7, 9)]\n",
      "El graf complet de K=4 té per nodes: [0, 1, 2, 3]\n",
      "El graf complet de K=4 té per arestes: [(0, 1), (0, 2), (0, 3), (1, 2), (1, 3), (2, 3)]\n"
     ]
    }
   ],
   "source": [
    "# Generar el graf de Petersen.\n",
    "petersen = nx.petersen_graph()\n",
    "\n",
    "print(\"El graf de Petersen té per nodes: \" + str(list(petersen.nodes())))\n",
    "print(\"El graf de Petersen té per arestes: \" + str(list(petersen.edges())))\n",
    "\n",
    "# Altres generadors admeten paràmetres. Per exemple, generar un graf complet de mida K. Provem per a K = 4.\n",
    "\n",
    "K_4 = nx.complete_graph(4)\n",
    "\n",
    "print(\"El graf complet de K=4 té per nodes: \" + str(list(K_4.nodes())))\n",
    "print(\"El graf complet de K=4 té per arestes: \" + str(list(K_4.edges())))"
   ]
  },
  {
   "cell_type": "markdown",
   "metadata": {},
   "source": [
    "No hi entrarem més detalladament ara, però els dibuixarem amb matplotlib per a visualitzar-los."
   ]
  },
  {
   "cell_type": "code",
   "execution_count": 8,
   "metadata": {},
   "outputs": [
    {
     "data": {
      "image/png": "[encoded data removed]",
      "text/plain": [
       "<Figure size 432x288 with 3 Axes>"
      ]
     },
     "metadata": {},
     "output_type": "display_data"
    }
   ],
   "source": [
    "import matplotlib.pyplot as plt\n",
    "\n",
    "# Dibuixarem, d'esquerra a dreta, G (tal com va quedar en l'últim pas), Petersen i K_4.\n",
    "plt.subplot(131)\n",
    "nx.draw_random(G, with_labels=True, font_weight='bold')\n",
    "plt.subplot(132)\n",
    "nx.draw(petersen, with_labels=True, font_weight='bold')\n",
    "plt.subplot(133)\n",
    "nx.draw(K_4, with_labels=True, font_weight='bold')\n",
    "plt.show()"
   ]
  },
  {
   "cell_type": "markdown",
   "metadata": {},
   "source": [
    "Sembla que el Petersen (al mig) està una mica atropellat, oi? En realitat, cal tenir en compte una cosa important: un graf no té una forma definida, de la mateixa manera que les seves arestes no tenen una dimensió de «distancia». Així, encara que sembli molt diferent a la imatge neta de l'apartat anterior, és en realitat **exactamente** el mateix graf. Però sí, l'anterior era més clar i més bonic; més endavant veurem com aconseguir, en la mesura del possible, que els grafs siguin *bonics*.\n",
    "\n",
    "\n",
    "## PROPIETATS BÀSIQUES\n",
    "\n",
    "Una vegada representat el graf, és el moment de treballar-hi. Comencem veient les operacions bàsiques que es poden fer sobre els seus components per a comprovar-ne les propietats\n",
    "\n",
    "- G.nodes(): Per a obtenir la llista de nodes.\n",
    "- G.edges(): Per a obtenir la llista d'arestes.\n",
    "- G.adj\\[NODO\\]: Per a obtenir la llista de nodes adjacents (*veïns*) a NODE.\n",
    "- G.degree\\[NODO\\]: Per a obtenir el grau de NODE (és a dir, el nombre d'arestes que li arriben).\n"
   ]
  },
  {
   "cell_type": "code",
   "execution_count": 9,
   "metadata": {},
   "outputs": [
    {
     "name": "stdout",
     "output_type": "stream",
     "text": [
      "Nodes: [1, 2, 3, 4, 5, 6, 7, 8]\n",
      "Arestes: [(1, 2), (1, 3), (1, 6), (7, 8)]\n",
      "Nodes veïns d'1: [2, 3, 6]\n",
      "Grau del node 1: 3\n"
     ]
    }
   ],
   "source": [
    "# Utilitzem G com a referència de nou. Es pot veure el graf dibuixat per a comprovar els resultats.\n",
    "print(\"Nodes: \" + str(list(G.nodes())))\n",
    "print(\"Arestes: \" + str(list(G.edges())))\n",
    "print(\"Nodes veïns d'1: \" + str(list(G.adj[1])))\n",
    "print(\"Grau del node 1: \" + str(G.degree[1]))"
   ]
  },
  {
   "cell_type": "markdown",
   "metadata": {},
   "source": [
    "**NOTA:** Cal tenir en compte que els mètodes que llisten nodes, arestes i adjacents han canviat a NetworkX 2 respecte a la versió 1.x anterior. No entrarem en detalls, encara que es poden consultar a l'[anunci oficial](https://networkx.github.io/documentation/stable/release/release_2.0.html \"NetworkX Release 2.0\"). \n",
    "\n",
    "Bàsicament, les funcions del tipus *nodes()* retornaven una llista d'objectes i els *nodes_iter()*, un iterador. Ara, els primers retornen una vista (iterable) de només lectura *NodeView*, la qual cosa ha substituït la segona funció, que ja no és necessària. Per a treure la llista de la vista només cal usar la funció de Python *list()*, com hem fet fins ara. Comprovem-ne la diferència."
   ]
  },
  {
   "cell_type": "code",
   "execution_count": 10,
   "metadata": {},
   "outputs": [
    {
     "data": {
      "text/plain": [
       "NodeView((1, 2, 3, 4, 5, 6, 7, 8))"
      ]
     },
     "execution_count": 10,
     "metadata": {},
     "output_type": "execute_result"
    }
   ],
   "source": [
    "G.nodes()"
   ]
  },
  {
   "cell_type": "code",
   "execution_count": 11,
   "metadata": {},
   "outputs": [
    {
     "data": {
      "text/plain": [
       "[1, 2, 3, 4, 5, 6, 7, 8]"
      ]
     },
     "execution_count": 11,
     "metadata": {},
     "output_type": "execute_result"
    }
   ],
   "source": [
    "list(G.nodes())"
   ]
  },
  {
   "cell_type": "code",
   "execution_count": 12,
   "metadata": {},
   "outputs": [
    {
     "name": "stdout",
     "output_type": "stream",
     "text": [
      "1\n",
      "2\n",
      "3\n",
      "4\n",
      "5\n",
      "6\n",
      "7\n",
      "8\n"
     ]
    }
   ],
   "source": [
    "# NodeView es iterable\n",
    "for node in G.nodes():\n",
    "    print(node)"
   ]
  },
  {
   "cell_type": "markdown",
   "metadata": {},
   "source": [
    "## ATRIBUTS\n",
    "\n",
    "Fins ara, els nodes i les arestes creades estan buits. Representen una relació però no tenen atributs. De vegades, interessa que sigui així (per exemple, la relació \"viu amb\" no necessita atribut), però també hi ha casos en què ens interessa mantenir més informació (per exemple, si la persona representada en un node és home o dona, o el nombre de vegades que una persona ha vist a una altra durant un cert període de temps).\n",
    "\n",
    "Com s'afegeixen els atributs?\n",
    "\n",
    "### Afegir atributs a nodes"
   ]
  },
  {
   "cell_type": "code",
   "execution_count": 13,
   "metadata": {},
   "outputs": [
    {
     "name": "stdout",
     "output_type": "stream",
     "text": [
      "(1, {'sexe': 'dona'})\n",
      "(2, {})\n",
      "(3, {'sexe': 'dona'})\n",
      "(4, {})\n",
      "(5, {})\n",
      "(6, {'sexe': 'home'})\n",
      "(7, {})\n",
      "(8, {'edat': 25, 'sexe': 'home'})\n"
     ]
    }
   ],
   "source": [
    "# Directament en la creació\n",
    "G.add_node(1, sexe='dona')\n",
    "G.add_nodes_from([3,6], sexe='home')\n",
    "\n",
    "# Creant l'atribut i afegint-lo (o modificant-lo)\n",
    "G.nodes[3]['sexe'] = 'dona'\n",
    "G.nodes[8]['edat'] = 25\n",
    "G.nodes[8]['sexe'] = 'home'\n",
    "\n",
    "# Així ho veiem ordenat, cada node amb els seus atributs.\n",
    "for node in G.nodes.data():\n",
    "    print(node)"
   ]
  },
  {
   "cell_type": "markdown",
   "metadata": {},
   "source": [
    "### Afegir atributs a arestes\n",
    "\n",
    "Un cas molt típic és el pes, *weight*. Només cal tenir en compte que aquest atribut en concret és una mica especial i hauria de ser numèric, perquè molts algorismes l’usen per als seus càlculs (recorreguts mínims, per exemple). Per a la resta, la mateixa llibertat i funcionalitat que amb els nodes."
   ]
  },
  {
   "cell_type": "code",
   "execution_count": 14,
   "metadata": {},
   "outputs": [
    {
     "name": "stdout",
     "output_type": "stream",
     "text": [
      "(1, 2, {'weight': 4.7, 'color': 'blue'})\n",
      "(1, 3, {})\n",
      "(1, 6, {'weight': 3.0})\n",
      "(2, 3, {'weight': 8})\n",
      "(3, 4, {'color': 'blue', 'weight': 4.2})\n",
      "(4, 5, {'color': 'blue'})\n",
      "(7, 8, {})\n"
     ]
    }
   ],
   "source": [
    "#Directament en la creació\n",
    "G.add_edge(1, 2, weight=4.7 )\n",
    "G.add_edges_from([(3, 4), (4, 5)], color='blue')\n",
    "G.add_edges_from([(1, 2, {'color': 'blue'}), (2, 3, {'weight': 8})])\n",
    "\n",
    "#Creant l'atribut i afegint-lo (o modificant-lo).\n",
    "G[1][6]['weight'] = 3.0\n",
    "G.edges[3, 4]['weight'] = 4.2\n",
    "\n",
    "for edge in G.edges.data():\n",
    "    print(edge)"
   ]
  },
  {
   "cell_type": "markdown",
   "metadata": {},
   "source": [
    "Un cas que pot cridar l'atenció en l'exemple anterior és G[1][6]. Només cal tenir en compte que:\n",
    "- G\\[1\\] és equivalent a G.adj\\[1\\], vist anteriorment.\n",
    "- G\\[1\\], per tant, retorna els adjacents a 1, que són 2, 3 y 6. \n",
    "- G\\[1\\]\\[6\\] es refereix al node 6 adjacent a 1, i és una altra forma de referir-se a l'aresta (1,6).\n",
    "- Tant G\\[1\\]\\[6\\] com G.edges\\[1, 6\\] retornen directament el diccionari d'atributs de l'aresta.\n",
    "\n",
    "Potser és poc intuïtiu, però executar G\\[1\\]\\[5\\], per exemple, donarà error, perquè no hi ha vincle entre 1 i 5."
   ]
  },
  {
   "cell_type": "code",
   "execution_count": 15,
   "metadata": {},
   "outputs": [
    {
     "name": "stdout",
     "output_type": "stream",
     "text": [
      "True\n",
      "True\n"
     ]
    }
   ],
   "source": [
    "print(G[1] == G.adj[1])\n",
    "print(G[1][6] == G.edges[1, 6])"
   ]
  },
  {
   "cell_type": "markdown",
   "metadata": {},
   "source": [
    "## GRAFS DIRIGITS\n",
    "\n",
    "També és important esmentar els grafs dirigits. S'ha vist que els grafs sense direcció responen a relacions que són obligatòriament recíproques (per exemple, si l’Ana viu amb el José, el José viu amb l’Ana). Però moltes relacions no ho són, sinó que tenen direcció. Per exemple, l'amistat. Que l’Ana consideri que el Jose és amic seu no significa que el Jose consideri l’Ana com amiga seva *per se*. Al seu torn, hi ha algorismes que només funcionen en grafs dirigits (però també n’hi ha d’altres que no estan ben definits sobre grafs dirigits, així que hi ha la possibilitat de transformar-los, tot i que perdent el seu significat original).\n",
    "\n",
    "Les seves funcionalitats bàsiques són molt semblants a les de Graph()"
   ]
  },
  {
   "cell_type": "code",
   "execution_count": 16,
   "metadata": {},
   "outputs": [
    {
     "name": "stdout",
     "output_type": "stream",
     "text": [
      "1.25\n",
      "[2]\n",
      "[2]\n"
     ]
    }
   ],
   "source": [
    "# Crear un graf dirigit\n",
    "DG = nx.DiGraph()\n",
    "\n",
    "# Afegir arestes/nodes amb pesos.\n",
    "DG.add_weighted_edges_from([(1, 2, 0.5), (3, 1, 0.75)])\n",
    "\n",
    "# Mostrar el GRAU (però aquí es té en compte el pes de cada aresta que passa pel node).\n",
    "print(DG.degree(1, weight='weight'))\n",
    "\n",
    "# Les dues formes d'obtenir els adjacents \n",
    "print(list(DG.adj[1]))\n",
    "print(list(DG.neighbors(1)))\n"
   ]
  },
  {
   "cell_type": "markdown",
   "metadata": {},
   "source": [
    "Però, un moment, si existeixen les arestes (1,2) i (3,1), per què no apareix 3 com a veí d'1 a DG.adj\\[1\\]? \n",
    "\n",
    "La resposta es troba en les funcions pròpies de DiGraph, com *in_degree()* y *out_degree()* (arestes entrants i sortints) o *predecessors()* y *successors()* per a obtenir els seus adjacents direccionals. DG.adj és equivalent, per a DiGraph, als successors\n",
    "\n",
    "Així, només retornarà els nodes als quals s'arribi des d'1, no els que arribin a aquest.\n",
    "\n",
    "Vegem les funcions pròpies en acció."
   ]
  },
  {
   "cell_type": "code",
   "execution_count": 17,
   "metadata": {},
   "outputs": [
    {
     "name": "stdout",
     "output_type": "stream",
     "text": [
      "1\n",
      "0.75\n",
      "0.5\n",
      "[3]\n",
      "[2]\n"
     ]
    }
   ],
   "source": [
    "print(DG.in_degree(1)) # Grado ENTRANTE\n",
    "print(DG.in_degree(1, weight='weight')) # Suma de pesos ENTRANTES\n",
    "print(DG.out_degree(1, weight='weight')) # Suma de pesos SALIENTES\n",
    "print(list(DG.predecessors(1))) # Lista de PREDECESORES\n",
    "print(list(DG.successors(1))) # Lista de SUCESORES"
   ]
  },
  {
   "cell_type": "markdown",
   "metadata": {},
   "source": [
    "## MULTIGRAFS\n",
    "\n",
    "Un cas particular (i habitualment menys útil, tret per a aplicacions específiques) és el multigraf, al qual NetworkX també dona cert suport. Pocs algorismes estan definits per a ells, però bàsicament són una extensió del graf o del graf dirigit en la qual és possible tenir definides dues arestes entre el mateix parell de nodes"
   ]
  },
  {
   "cell_type": "code",
   "execution_count": 18,
   "metadata": {},
   "outputs": [
    {
     "data": {
      "text/plain": [
       "{1: 1.25, 2: 1.75, 3: 0.5}"
      ]
     },
     "execution_count": 18,
     "metadata": {},
     "output_type": "execute_result"
    }
   ],
   "source": [
    "# Creació\n",
    "MG = nx.MultiGraph() # O MultiDiGraph() para direccionales.\n",
    "\n",
    "# Construcció\n",
    "MG.add_weighted_edges_from([(1, 2, 0.5), (1, 2, 0.75), (2, 3, 0.5)])\n",
    "\n",
    "# Graus per node\n",
    "dict(MG.degree(weight='weight'))"
   ]
  },
  {
   "cell_type": "markdown",
   "metadata": {},
   "source": [
    "Observeu que el grau d'1 és la suma de dues arestes que van al mateix node, 2, que el grau de 2 és la suma de les dues arestes que li arriben d'1 i de la que va cap a 3, mentre que el node 3 només rep una aresta de 2."
   ]
  },
  {
   "cell_type": "code",
   "execution_count": null,
   "metadata": {},
   "outputs": [],
   "source": []
  }
 ],
 "metadata": {
  "kernelspec": {
   "display_name": "Python 3",
   "language": "python",
   "name": "python3"
  },
  "language_info": {
   "codemirror_mode": {
    "name": "ipython",
    "version": 3
   },
   "file_extension": ".py",
   "mimetype": "text/x-python",
   "name": "python",
   "nbconvert_exporter": "python",
   "pygments_lexer": "ipython3",
   "version": "3.6.7"
  },
  "varInspector": {
   "cols": {
    "lenName": 16,
    "lenType": 16,
    "lenVar": 40
   },
   "kernels_config": {
    "python": {
     "delete_cmd_postfix": "",
     "delete_cmd_prefix": "del ",
     "library": "var_list.py",
     "varRefreshCmd": "print(var_dic_list())"
    },
    "r": {
     "delete_cmd_postfix": ") ",
     "delete_cmd_prefix": "rm(",
     "library": "var_list.r",
     "varRefreshCmd": "cat(var_dic_list()) "
    }
   },
   "types_to_exclude": [
    "module",
    "function",
    "builtin_function_or_method",
    "instance",
    "_Feature"
   ],
   "window_display": false
  }
 },
 "nbformat": 4,
 "nbformat_minor": 2
}
