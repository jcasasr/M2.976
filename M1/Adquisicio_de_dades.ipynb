{
 "cells": [
  {
   "cell_type": "markdown",
   "metadata": {},
   "source": [
    "<div style=\"width: 100%; clear: both;\">\n",
    "<div style=\"float: left; width: 50%;\">\n",
    "<img src=\"http://www.uoc.edu/portal/_resources/common/imatges/marca_UOC/UOC_Masterbrand.jpg\", align=\"left\">\n",
    "</div>\n",
    "</div>\n",
    "<div style=\"float: right; width: 50%;\">\n",
    "<p style=\"margin: 0; padding-top: 22px; text-align:right;\">M2.976 · Anàlisi de grafs i xarxes socials</p>\n",
    "<p style=\"margin: 0; text-align:right;\">Màster universitari en Ciència de dades (Data science)</p>\n",
    "<p style=\"margin: 0; text-align:right; padding-button: 100px;\">Estudis d'Informàtica, Multimèdia i Telecomunicació</p>\n",
    "</div>\n",
    "</div>\n",
    "<div style=\"width: 100%; clear: both;\">\n",
    "<div style=\"width:100%;\">&nbsp;</div>"
   ]
  },
  {
   "cell_type": "markdown",
   "metadata": {},
   "source": [
    "# Adquisició de dades de xarxes socials\n",
    "\n",
    "Els processos d'adquisició de dades de xarxes socials són molt diversos. En aquesta unitat, veurem exemples d'adquisició de dades de xarxes socials seguint tres enfocaments diferents:\n",
    "\n",
    "- la descàrrega **directa** de les dades,\n",
    "- l'obtenció de dades mitjançant peticions a **API** de tercers,\n",
    "- la recol·lecció de dades a partir de **web crawling**.\n",
    "\n",
    "En relació amb la primera alternativa, la descàrrega directa de les dades, presentarem alguns dels repositoris de dades de xarxes socials més populars.\n",
    "\n",
    "Pel que fa a la interacció amb API de tercers, veurem com usar llibreries Python per a interactuar amb API.\n",
    "\n",
    "\n",
    "En relació amb el *web crawling*, veurem com utilitzar la llibreria [Scrapy](https://scrapy.org/) per a construir un petit web crawler que capturi dades del nostre interès."
   ]
  },
  {
   "cell_type": "markdown",
   "metadata": {},
   "source": [
    "## 1. Descàrrega directa de les dades"
   ]
  },
  {
   "cell_type": "markdown",
   "metadata": {},
   "source": [
    "Algunes vegades tindrem l'oportunitat de treballar amb conjunts de dades que ja han estat recopilades anteriorment i que es troben directament disponibles per a la seva descàrrega. Serà el cas, per exemple, de dades recopilades per algun altre analista, dades cedides directament pel proveïdor de la xarxa social, conjunts de dades públiques utilitzades com a referència, etc.\n",
    "\n",
    "Alguns dels llocs de referència per a descarregar dades de xarxes socials són:\n",
    "- L'apartat dedicat a [xarxes socials del Network repository](http://networkrepository.com/soc.php) conté múltiples conjunts de dades d'aquestes xarxes i ofereix, a més, una eina per a visualitzar de manera interactiva les xarxes i estadístiques sobre elles.\n",
    "- [Stanford Large Network Dataset Collection](http://snap.stanford.edu/data/), una recopilació de conjunts de dades en forma de xarxa creada per Juri Leskovec i Andrej Krevl. Conté dades de xarxes socials com Facebook, Twitter o Google+, a més d'altres tipus de dades que tenen estructura de xarxa, per exemple, xarxes de col·laboració entre científics o xarxes d'ordinadors.\n",
    "- [Mark Newman network datasets](http://www-personal.umich.edu/~mejn/netdata/), és també llistat de conjunts de dades en forma de xarxa, en aquest cas recopilades per Mark Newman. Conté alguns conjunts de dades de xarxes socials, encara que la majoria pertanyen a altres tipus de xarxes.\n",
    "- El repositori [KONECT de la universitat de Koblenz](http://konect.uni-koblenz.de/networks/) posa a disposició pública dades de xarxes, algunes de les quals pertanyen a xarxes socials (les trobarem dins de la categoria *social*). \n",
    "\n",
    "En aquests casos, la descàrrega de les dades es fa de manera directa (usant, per exemple, un navegador web, un client [ftp](https://en.wikipedia.org/wiki/File_Transfer_Protocol), un client de [BitTorrent](https://en.wikipedia.org/wiki/BitTorrent) o amb el mateix Python), i simplement caldrà llegir el fitxer descarregat per a poder començar a treballar amb les dades. Vegem un exemple molt senzill de la descàrrega directa d'un fitxer comprimit amb dades de la xarxa Google+.\n"
   ]
  },
  {
   "cell_type": "code",
   "execution_count": 1,
   "metadata": {},
   "outputs": [],
   "source": [
    "import requests, zipfile, sys\n",
    "zip_file_url = \"http://nrvis.com/download/data/soc/soc-gplus.zip\"\n",
    "\n",
    "if sys.version_info[0] == 2:\n",
    "    import StringIO\n",
    "    # Descarreguem un fitxer comprimit amb les dades del Network Repository\n",
    "    r = requests.get(zip_file_url, stream=True)\n",
    "\n",
    "    # Extraiem el contingut del zip a la carpeta data\n",
    "    z = zipfile.ZipFile(StringIO.StringIO(r.content))\n",
    "elif sys.version_info[0] == 3:\n",
    "    # python3\n",
    "    import io\n",
    "    r = requests.get(zip_file_url)\n",
    "    z = zipfile.ZipFile(io.BytesIO(r.content))\n",
    "else:\n",
    "    print(\"Unrecognized Python version\")\n",
    "    exit()\n",
    "    \n",
    "z.extractall(\"./data\")"
   ]
  },
  {
   "cell_type": "code",
   "execution_count": 2,
   "metadata": {},
   "outputs": [
    {
     "name": "stdout",
     "output_type": "stream",
     "text": [
      "% asym unweighted\n",
      "\n",
      "% 39242 131 23591\n",
      "\n",
      "1 2 \n",
      "\n",
      "1 3 \n",
      "\n",
      "1 4 \n",
      "\n",
      "1 5 \n",
      "\n",
      "1 6 \n",
      "\n",
      "1 7 \n",
      "\n",
      "1 8 \n",
      "\n",
      "1 9 \n",
      "\n"
     ]
    }
   ],
   "source": [
    "# Obrim el fitxer descomprimit i mostrem les 10 primeres línies\n",
    "with open(\"./data/soc-gplus.edges\", 'r') as f:\n",
    "    for _ in range(10):\n",
    "        read_data = f.readline()\n",
    "        print(read_data)\n"
   ]
  },
  {
   "cell_type": "markdown",
   "metadata": {},
   "source": [
    "## 2. APIs de tercers"
   ]
  },
  {
   "cell_type": "markdown",
   "metadata": {},
   "source": [
    "Moltes xarxes socials posen a la disposició dels desenvolupadors una API (de l'anglès, *Application Programming Interface*) que permet interactuar amb la xarxa, sigui per descarregar continguts existents o per publicar nous continguts. En aquesta secció, veurem com podem descarregar contingut de xarxes socials a través de les seves API.\n",
    "\n",
    "Una API és un conjunt de mètodes de comunicació entre diversos components de programari. Les API faciliten el treball d'integració de programes, ja que permeten oferir una interfície clara i ben especificada amb la qual interactuar amb una aplicació, amagant-ne els detalls de la implementació i exposant únicament funcions específiques d'interès.\n",
    "\n",
    "La definició d'API és molt genèrica i podem trobar diverses API en molts contextos. En aquesta unitat, ens centrarem en l'ús de les API web per a l'adquisició de dades de serveis de tercers. Les API web es defineixen habitualment com un conjunt de peticions HTTP juntament amb l'especificació de l'estructura de les dades de les respostes, normalment en format JSON o XML.\n",
    "\n",
    "L'ús de les API web està molt estès actualment per interactuar amb grans proveïdors de serveis a internet. Alguns exemples d'API populars són les de Google maps, YouTube, Spotify, Twitter o Facebook.\n",
    "\n",
    "Per interactuar amb una web API farem una **petició HTTP**. Al seu torn, el servidor ens respondrà amb un missatge de resposta HTTP. Les peticions i respostes HTTP s'estructuren en tres parts:\n",
    "\n",
    "* Una línia inicial de petició, que inclou l'acció que cal realitzar (el mètode de la petició) i la URL del recurs, a les peticions; i el codi d'estat i el missatge associat, en el cas de les respostes.\n",
    "* La capçalera, que inclou metadades amb diverses finalitats, per exemple, per descriure'n el contingut, fer-ne l'autenticació o controlar les galetes (cookies).\n",
    "* Una línia en blanc que separa la capçalera del cos.\n",
    "* El cos, que pot estar buit o contenir-hi dades.\n",
    "\n",
    "Les accions o mètodes més usats en interacció amb API web són:\n",
    "* `GET`: permet obtenir informació del recurs especificat.\n",
    "* `POST`: permet enviar dades al recurs especificat.\n",
    "* `PUT`: carrega dades actualitzant les ja existents al recurs especificat.\n",
    "* `DELETE`: elimina informació del recurs especificat.\n",
    "\n",
    "Dos dels formats més habituals per incloure dades a les respostes de les API web són **JSON** i **XML**. Tots dos formats tenen diverses propietats en comú. En primer lloc, van ser dissenyats per ser llegits tant per humans com per ordinadors, la qual cosa els fa ideals en aquest context. En segon lloc, tots dos incorporen informació sobre l'estructura de les dades que codifiquen. Finalment, tots dos emmagatzemen les dades en text clar. No obstant això, tots dos presenten múltiples diferències.\n",
    "\n",
    "El format **XML** (de l'anglès, Extensible Markup Language) és un llenguatge de marques que utilitza un conjunt d'etiquetes no predefinit. Els documents XML tenen un únic element arrel del qual poden penjar altres elements. Els elements es delimiten amb una etiqueta inicial i una etiqueta final. \n",
    "\n",
    "El format **JSON** (de l'anglès, Javascript Object Notation) és un subconjunt de la notació d'objectes Javascript. JSON es basa en dues estructures de dades, l'array i l'objecte, que serien equivalents a les llistes i diccionaris de Python que ja hem introduït. "
   ]
  },
  {
   "cell_type": "markdown",
   "metadata": {},
   "source": [
    "### 2.1. L'API de Twitter"
   ]
  },
  {
   "cell_type": "markdown",
   "metadata": {},
   "source": [
    "**Twitter** és una xarxa social creada a principis de 2006 que proporciona una plataforma per a intercanviar petits missatges de text, coneguts com tweets. Tradicionalment els tweets estaven limitats a 140 caràcters, però en l'actualitat estan permesos fins a 280.\n",
    "\n",
    "Twitter ofereix diverses  [APIs](https://developer.twitter.com/en/docs/api-reference-index) que permeten obtenir dades de la xarxa. En aquesta unitat, treballarem amb una d'aquestes, l'API REST.\n",
    "\n",
    "Les dades retornades per les API de Twitter es troben codificades usant Javascript Object Notation (JSON). De totes maneres, usarem una llibreria de Python per a interactuar amb l'API, Tweepy, que ja s'encarrega de processar el JSON de resposta de Twitter i crea objectes de Python amb el resultat de cada consulta, per la qual cosa no haurem de tractar amb el format de les dades manualment."
   ]
  },
  {
   "cell_type": "markdown",
   "metadata": {},
   "source": [
    "### 2.1.1. Autenticació amb l'API de Twitter"
   ]
  },
  {
   "cell_type": "markdown",
   "metadata": {},
   "source": [
    "Twitter requereix autenticació per a poder utilitzar la seva API. Per aquest motiu, el primer pas per a poder obtenir dades de Twitter mitjançant la seva API és aconseguir unes credencials adequades. En aquesta secció, descriurem com obtenir credencials per a accedir a l'API de Twitter.\n",
    "\n",
    "Per començar, cal disposar d'un compte de Twitter. Per a poder executar els exemples del notebook, necessitareu per tant tenir un compte de Twitter. Podeu utilitzar el vostre compte personal, si ja en teniu, per a sol·licitar els permisos de desenvolupador que ens permetran interactuar amb l'API. En cas contrari (o si preferiu no usar el vostre compte personal), podeu crear un compte de Twitter nou. El procés és molt senzill:\n",
    "\n",
    "1. Accedir a [Twitter](http://www.twitter.com).\n",
    "2. Prémer sobre *Sign up for Twitter* i seguir les indicacions per a completar el registre..\n",
    "\n",
    "Després, caldrà sol·licitar convertir el compte creat recentment (o el vostre compte personal) en un compte de desenvolupador. Per a fer-ho, cal seguir els passos següents:\n",
    "1. Accedir al [panell de desenvolupadors de Twitter](https://developer.twitter.com/).\n",
    "2. Clicar sobre *Apply*.\n",
    "3. Clicar sobre *Apply for a developer account*.\n",
    "3. Prémer *Continue*.\n",
    "4. Indicar perquè voleu disposar d'un compte de desenvolupador (podeu explicar que esteu fent un curs d'anàlisi de xarxes socials i que farem unes proves amb l'API de Twitter).\n",
    "\n",
    "Per a poder completar aquest procés satisfactòriament, necessitareu que el vostre compte disposi d'un número de telèfon associat verificat. En cas contrari, veureu que us apareixerà un missatge perquè verifiqueu el vostre telèfon. \n",
    "\n",
    "Finalment, una vegada ja disposem d'un compte de Twitter, caldrà registrar una nova aplicació. Per a fer-ho, cal seguir els passos següents:\n",
    "\n",
    "1. Accedir al [panell de desenvolupadors de Twitter](https://developer.twitter.com/en/apps).\n",
    "2. Prémer sobre *Create new app*.\n",
    "3. Emplenar el formulari amb els detalls de l'aplicació. En concret, necessitareu proporcionar com a mínim els camps:\n",
    "    * *App name*\n",
    "    * *Application description*\n",
    "    * *Website URL*\n",
    "    * *Tell us how this app will be used*\n",
    "\n",
    "El camp Website ha de contenir una URL vàlida (per exemple, l'enllaç al vostre perfil de Twitter).\n",
    "\n",
    "Una vegada creada l'aplicació, podeu accedir a la pestanya Keys and access tokens. Allí es troben les credencials creades recentment per a la vostra aplicació, que utilitzarem per a autenticar-nos i poder utilitzar l'API de Twitter. Veureu que ja teniu les claus Consumer API keys disponibles. A més, caldrà prémer sobre Create en la secció Access token & access token secret per a obtenir també tots dos tokens. Els quatre valors s'utilitzaran per a autenticar la nostra aplicació:\n",
    "\n",
    "* API / Consumer Key\n",
    "* API / Consumer Secret\n",
    "* Access Token\n",
    "* Access Token Secret"
   ]
  },
  {
   "cell_type": "markdown",
   "metadata": {},
   "source": [
    "### 2.1.2 Tweepy"
   ]
  },
  {
   "cell_type": "markdown",
   "metadata": {},
   "source": [
    "Una de les llibreries més populars per a interactuar amb l'API de Twitter és  [Tweepy](http://www.tweepy.org/). La llibreria permet interactuar amb l'API de Twitter d'una manera senzilla, ja que encapsula els mètodes HTTP de l'API en mètodes de Python, que es poden cridar directament. Trobareu la documentació de la llibreria en el següent [enllaç](http://tweepy.readthedocs.io).\n",
    "\n",
    "Per a simplificar la interacció amb la llibreria, crearem una funció  `get_twitter_api`, que crea un objecte de la  [classe api de tweepy](http://tweepy.readthedocs.io/en/v3.5.0/api.html#tweepy-api-twitter-api-wrapper) inicialitzant-lo amb les nostres credencials o bé retorna l'objecte creat anteriorment (tret que s'indiqui el contrari amb el paràmetre `reset`)."
   ]
  },
  {
   "cell_type": "code",
   "execution_count": 3,
   "metadata": {},
   "outputs": [],
   "source": [
    "# Importem la librería tweepy\n",
    "import tweepy\n",
    "\n",
    "# Definim la variable API, que emmagatzemarà l'objecte tweepy.API inicialitzat amb les nostres credencials.\n",
    "api = None\n",
    "\n",
    "# Definim la funció get_twitter_api, que retornarà l'objecte tweepy.API. La funció crearà\n",
    "# un objecte tweepy.API si aquest no s'ha creat prèviament (o si ho indiquem explícitament \n",
    "# amb reset=True) o bé retornarà l'objecte creat anteriorment.\n",
    "def get_twitter_api(reset=False, consumer_key=None, consumer_secret=None, access_token=None, access_secret=None):\n",
    "    global api\n",
    "    if not api or reset:\n",
    "        print(\"Initializing tweepy API...\")\n",
    "        auth = tweepy.OAuthHandler(consumer_key, consumer_secret)\n",
    "        auth.set_access_token(access_token, access_secret)\n",
    "        api = tweepy.API(auth)\n",
    "    return api"
   ]
  },
  {
   "cell_type": "markdown",
   "metadata": {},
   "source": [
    "A continuació, crearem l'objecte API que utilitzarem per a interactuar amb Twitter, especificant les credencials de l'aplicació que hem creat anteriorment."
   ]
  },
  {
   "cell_type": "code",
   "execution_count": 4,
   "metadata": {},
   "outputs": [
    {
     "name": "stdout",
     "output_type": "stream",
     "text": [
      "Initializing tweepy API...\n"
     ]
    },
    {
     "data": {
      "text/plain": [
       "<tweepy.api.API at 0x10c56bb00>"
      ]
     },
     "execution_count": 4,
     "metadata": {},
     "output_type": "execute_result"
    }
   ],
   "source": [
    "# Creem un objecte tweepy.API amb la funció get_twitter_api\n",
    "# IMPORTANTE: És necessari incloure les credencials d'accés que hagueu obtingut al crear la vostre APP\n",
    "# per executar la resta d'exemples del notebook.\n",
    "api = get_twitter_api(consumer_key = 'tuzlLXJ7Cjcw9ysoeEhT60ENh', \n",
    "                      consumer_secret = 'cO9hqRaP94IP66ssVqHHqVyibrLMQ1et8XHbhczy2eBW6rFFiI',\n",
    "                      access_token = '1029309220234186752-GikHFK2syTi2kiH0bVx8fMNhdP8IDJ',\n",
    "                      access_secret = 'AJIuznR3PXwPh30GZ8YYqyQfpTyjkZrnu5bglzGUSaN5F'\n",
    "                      )\n",
    "api"
   ]
  },
  {
   "cell_type": "markdown",
   "metadata": {},
   "source": [
    "### 2.1.3 Els usuaris de Twitter"
   ]
  },
  {
   "cell_type": "markdown",
   "metadata": {},
   "source": [
    "Un dels objectes bàsics de l'API de Twitter és el que representa els usuaris de la xarxa. Tots els usuaris de Twitter tenen un identificador únic, que és un valor numèric que Twitter utilitza per a fer referència a l'usuari dins de la xarxa. Encara que aquest identificador és molt pràctic per a seleccionar un usuari concret de forma inequívoca, és difícil de recordar per a les persones, per la qual cosa Twitter permet definir tant un nom d'usuari, que s'utilitzarà per a iniciar sessió a la xarxa, com un nom de perfil, que es mostrarà en el perfil i que podrà canviar-se amb el temps, si l'usuari ho desitja.\n",
    "\n",
    "A més d'informació d'identificació, l'objecte usuari de Twitter disposa de molts altres atributs, per exemple, la url i la descripció que l'usuari inclou en el seu perfil, el nombre de seguidors i d'amics, el nombre de tweets que ha enviat, etc. En la documentació de l'API de Twitter, trobareu una descripció de tots els atributs que tenen els objectes d'[usuari](https://developer.twitter.com/en/docs/tweets/data-dictionary/overview/user-object) de l'API de Twitter. "
   ]
  },
  {
   "cell_type": "markdown",
   "metadata": {},
   "source": [
    "Vegem com podem usar el mètode [`get_user`](http://docs.tweepy.org/en/v3.5.0/api.html?highlight=get_user#API.get_user) de Tweepy per a obtenir dades d'un usuari de Twitter:"
   ]
  },
  {
   "cell_type": "code",
   "execution_count": 5,
   "metadata": {},
   "outputs": [
    {
     "name": "stdout",
     "output_type": "stream",
     "text": [
      "El tipus de dades de la variable user és: <class 'tweepy.models.User'>\n",
      "El nom d'usuari és: Twitter\n",
      "L'id d'usuari és: 783214\n"
     ]
    }
   ],
   "source": [
    "# Recuperem l'objecte api\n",
    "api = get_twitter_api()\n",
    "\n",
    "# Obtenim l'objecte user, que representa un usuari de Twitter\n",
    "# Es pot accedir a un usuari per id d'usuari o nom d'usuari (screen_name)\n",
    "user = api.get_user('twitter')\n",
    "\n",
    "print(\"El tipus de dades de la variable user és: {}\".format(type(user)))\n",
    "print(\"El nom d'usuari és: {}\".format(user.screen_name))\n",
    "print(\"L'id d'usuari és: {}\".format(user.id))"
   ]
  },
  {
   "cell_type": "code",
   "execution_count": 6,
   "metadata": {
    "scrolled": true
   },
   "outputs": [
    {
     "name": "stdout",
     "output_type": "stream",
     "text": [
      "El nombre de seguidors és: 56606984\n",
      "El nombre d'amics es: 35\n",
      "El nombre de tweets és: 11543\n"
     ]
    }
   ],
   "source": [
    "# Mostramos algunos atributos del usuario recuperado\n",
    "print(\"El nombre de seguidors és: {}\".format(user.followers_count))\n",
    "print(\"El nombre d'amics es: {}\".format(user.friends_count))\n",
    "print(\"El nombre de tweets és: {}\".format(user.statuses_count))"
   ]
  },
  {
   "cell_type": "code",
   "execution_count": 7,
   "metadata": {
    "scrolled": true
   },
   "outputs": [
    {
     "name": "stdout",
     "output_type": "stream",
     "text": [
      "User(_api=<tweepy.api.API object at 0x10c56bb00>, _json={'id': 783214, 'id_str': '783214', 'name': 'Twitter', 'screen_name': 'Twitter', 'location': 'Everywhere', 'profile_location': None, 'description': 'What’s happening?!', 'url': 'https://t.co/TAXQpsHa5X', 'entities': {'url': {'urls': [{'url': 'https://t.co/TAXQpsHa5X', 'expanded_url': 'https://about.twitter.com/', 'display_url': 'about.twitter.com', 'indices': [0, 23]}]}, 'description': {'urls': []}}, 'protected': False, 'followers_count': 56606984, 'friends_count': 35, 'listed_count': 90738, 'created_at': 'Tue Feb 20 14:35:54 +0000 2007', 'favourites_count': 6210, 'utc_offset': None, 'time_zone': None, 'geo_enabled': True, 'verified': True, 'statuses_count': 11543, 'lang': None, 'status': {'created_at': 'Fri Aug 30 18:18:14 +0000 2019', 'id': 1167501799324082178, 'id_str': '1167501799324082178', 'text': '@WittLowry #TEAMWITT is on fire', 'truncated': False, 'entities': {'hashtags': [{'text': 'TEAMWITT', 'indices': [11, 20]}], 'symbols': [], 'user_mentions': [{'screen_name': 'WittLowry', 'name': 'Witt', 'id': 284653613, 'id_str': '284653613', 'indices': [0, 10]}], 'urls': []}, 'source': '<a href=\"http://twitter.com\" rel=\"nofollow\">Twitter Web Client</a>', 'in_reply_to_status_id': 1167274429576933376, 'in_reply_to_status_id_str': '1167274429576933376', 'in_reply_to_user_id': 284653613, 'in_reply_to_user_id_str': '284653613', 'in_reply_to_screen_name': 'WittLowry', 'geo': None, 'coordinates': None, 'place': None, 'contributors': None, 'is_quote_status': False, 'retweet_count': 631, 'favorite_count': 2518, 'favorited': False, 'retweeted': False, 'lang': 'en'}, 'contributors_enabled': False, 'is_translator': False, 'is_translation_enabled': False, 'profile_background_color': 'ACDED6', 'profile_background_image_url': 'http://abs.twimg.com/images/themes/theme18/bg.gif', 'profile_background_image_url_https': 'https://abs.twimg.com/images/themes/theme18/bg.gif', 'profile_background_tile': True, 'profile_image_url': 'http://pbs.twimg.com/profile_images/1111729635610382336/_65QFl7B_normal.png', 'profile_image_url_https': 'https://pbs.twimg.com/profile_images/1111729635610382336/_65QFl7B_normal.png', 'profile_banner_url': 'https://pbs.twimg.com/profile_banners/783214/1556918042', 'profile_link_color': '1B95E0', 'profile_sidebar_border_color': 'FFFFFF', 'profile_sidebar_fill_color': 'F6F6F6', 'profile_text_color': '333333', 'profile_use_background_image': True, 'has_extended_profile': True, 'default_profile': False, 'default_profile_image': False, 'following': False, 'follow_request_sent': False, 'notifications': False, 'translator_type': 'regular'}, id=783214, id_str='783214', name='Twitter', screen_name='Twitter', location='Everywhere', profile_location=None, description='What’s happening?!', url='https://t.co/TAXQpsHa5X', entities={'url': {'urls': [{'url': 'https://t.co/TAXQpsHa5X', 'expanded_url': 'https://about.twitter.com/', 'display_url': 'about.twitter.com', 'indices': [0, 23]}]}, 'description': {'urls': []}}, protected=False, followers_count=56606984, friends_count=35, listed_count=90738, created_at=datetime.datetime(2007, 2, 20, 14, 35, 54), favourites_count=6210, utc_offset=None, time_zone=None, geo_enabled=True, verified=True, statuses_count=11543, lang=None, status=Status(_api=<tweepy.api.API object at 0x10c56bb00>, _json={'created_at': 'Fri Aug 30 18:18:14 +0000 2019', 'id': 1167501799324082178, 'id_str': '1167501799324082178', 'text': '@WittLowry #TEAMWITT is on fire', 'truncated': False, 'entities': {'hashtags': [{'text': 'TEAMWITT', 'indices': [11, 20]}], 'symbols': [], 'user_mentions': [{'screen_name': 'WittLowry', 'name': 'Witt', 'id': 284653613, 'id_str': '284653613', 'indices': [0, 10]}], 'urls': []}, 'source': '<a href=\"http://twitter.com\" rel=\"nofollow\">Twitter Web Client</a>', 'in_reply_to_status_id': 1167274429576933376, 'in_reply_to_status_id_str': '1167274429576933376', 'in_reply_to_user_id': 284653613, 'in_reply_to_user_id_str': '284653613', 'in_reply_to_screen_name': 'WittLowry', 'geo': None, 'coordinates': None, 'place': None, 'contributors': None, 'is_quote_status': False, 'retweet_count': 631, 'favorite_count': 2518, 'favorited': False, 'retweeted': False, 'lang': 'en'}, created_at=datetime.datetime(2019, 8, 30, 18, 18, 14), id=1167501799324082178, id_str='1167501799324082178', text='@WittLowry #TEAMWITT is on fire', truncated=False, entities={'hashtags': [{'text': 'TEAMWITT', 'indices': [11, 20]}], 'symbols': [], 'user_mentions': [{'screen_name': 'WittLowry', 'name': 'Witt', 'id': 284653613, 'id_str': '284653613', 'indices': [0, 10]}], 'urls': []}, source='Twitter Web Client', source_url='http://twitter.com', in_reply_to_status_id=1167274429576933376, in_reply_to_status_id_str='1167274429576933376', in_reply_to_user_id=284653613, in_reply_to_user_id_str='284653613', in_reply_to_screen_name='WittLowry', geo=None, coordinates=None, place=None, contributors=None, is_quote_status=False, retweet_count=631, favorite_count=2518, favorited=False, retweeted=False, lang='en'), contributors_enabled=False, is_translator=False, is_translation_enabled=False, profile_background_color='ACDED6', profile_background_image_url='http://abs.twimg.com/images/themes/theme18/bg.gif', profile_background_image_url_https='https://abs.twimg.com/images/themes/theme18/bg.gif', profile_background_tile=True, profile_image_url='http://pbs.twimg.com/profile_images/1111729635610382336/_65QFl7B_normal.png', profile_image_url_https='https://pbs.twimg.com/profile_images/1111729635610382336/_65QFl7B_normal.png', profile_banner_url='https://pbs.twimg.com/profile_banners/783214/1556918042', profile_link_color='1B95E0', profile_sidebar_border_color='FFFFFF', profile_sidebar_fill_color='F6F6F6', profile_text_color='333333', profile_use_background_image=True, has_extended_profile=True, default_profile=False, default_profile_image=False, following=False, follow_request_sent=False, notifications=False, translator_type='regular')\n"
     ]
    }
   ],
   "source": [
    "# Visualitzem els atributs de la instància user.\n",
    "print(user)"
   ]
  },
  {
   "cell_type": "markdown",
   "metadata": {},
   "source": [
    "Les xarxes socials es caracteritzen perquè permeten que els seus usuaris creïn relacions explı́cites dins de la mateixa xarxa. Twitter implementa aquestes relacions explícites mitjançant les relacions de seguiment entre usuaris. Així, doncs, els usuaris de Twitter poden seguir altres usuaris de la xarxa.\n",
    "\n",
    "Les relacions entre usuaris de Twitter no són bidireccionals, és a dir, Twitter diferencia entre la relació en la qual Alice segueix Bob i la relació en la qual Bob segueix Alice. Quan l'usuari Alice segueix Bob, diem que Alice és una seguidora o *follower* de Bob. Alhora, Bob és aleshores un amic o *friend* d'Alice.\n",
    "\n",
    "Podem recuperar els seguidors (*followers*) d'un usuari i els usuaris als quals aquest segueix (amics o*friends*) usant l'API de Twitter: "
   ]
  },
  {
   "cell_type": "code",
   "execution_count": 8,
   "metadata": {},
   "outputs": [
    {
     "name": "stdout",
     "output_type": "stream",
     "text": [
      "L'id del primer follower és: 1168535169298550785\n",
      "L'id del primer friend és: 2408170710\n",
      "El tipus de dades d'un follower és: <class 'tweepy.models.User'>\n",
      "El tipus de dades d'un friend és: <class 'tweepy.models.User'>\n",
      "Dades del primer follower de l'usuari twitter:\n",
      "\tEl nom d'usuari és: BenhadjMimi\n",
      "\tL'id d'usuari és: 1168535169298550785\n",
      "\tEl número de seguidores es: 0\n",
      "\tEl nombre d'amics és: 34\n",
      "\tEl nombre de tweets és: 0\n"
     ]
    }
   ],
   "source": [
    "# Obtenim els identificadors dels followers i els friends de l'usuari de Twitter\n",
    "followers_ids = api.followers_ids(\"twitter\")\n",
    "friends_ids = api.friends_ids(\"twitter\")\n",
    "print(\"L'id del primer follower és: {}\".format(followers_ids[0]))\n",
    "print(\"L'id del primer friend és: {}\".format(friends_ids[0]))\n",
    "\n",
    "# També podem recuperar els followers o friends com a objectes User de Tweepy.\n",
    "followers = api.followers(\"twitter\")\n",
    "friends = api.friends(\"twitter\")\n",
    "print(\"El tipus de dades d'un follower és: {}\".format(type(followers[0])))\n",
    "print(\"El tipus de dades d'un friend és: {}\".format(type(friends[0])))\n",
    "\n",
    "# Així, podem accedir directament als atributs dels followers i friends de l'usuari de Twitter\n",
    "a_follower = followers[0]\n",
    "print(\"Dades del primer follower de l'usuari twitter:\")\n",
    "print(\"\\tEl nom d'usuari és: {}\".format(a_follower.screen_name))\n",
    "print(\"\\tL'id d'usuari és: {}\".format(a_follower.id))\n",
    "print(\"\\tEl número de seguidores es: {}\".format(a_follower.followers_count))\n",
    "print(\"\\tEl nombre d'amics és: {}\".format(a_follower.friends_count))\n",
    "print(\"\\tEl nombre de tweets és: {}\".format(a_follower.statuses_count))\n"
   ]
  },
  {
   "cell_type": "markdown",
   "metadata": {},
   "source": [
    "Donada una relació entre dos usuaris, també podem obtenir dades addicionals d'aquesta usant el mètode  [`showfriendship`](http://docs.tweepy.org/en/v3.5.0/api.html?highlight=show_friendship#API.show_friendship):\n"
   ]
  },
  {
   "cell_type": "code",
   "execution_count": 9,
   "metadata": {},
   "outputs": [
    {
     "data": {
      "text/plain": [
       "(Friendship(_api=<tweepy.api.API object at 0x10c56bb00>, _json={'id': 1006576427423227905, 'id_str': '1006576427423227905', 'screen_name': 'murcianomario', 'following': False, 'followed_by': False, 'live_following': False, 'following_received': None, 'following_requested': None, 'notifications_enabled': None, 'can_dm': False, 'blocking': None, 'blocked_by': None, 'muting': None, 'want_retweets': None, 'all_replies': None, 'marked_spam': None}, id=1006576427423227905, id_str='1006576427423227905', screen_name='murcianomario', following=False, followed_by=False, live_following=False, following_received=None, following_requested=None, notifications_enabled=None, can_dm=False, blocking=None, blocked_by=None, muting=None, want_retweets=None, all_replies=None, marked_spam=None),\n",
       " Friendship(_api=<tweepy.api.API object at 0x10c56bb00>, _json={'id': 783214, 'id_str': '783214', 'screen_name': 'Twitter', 'following': False, 'followed_by': False, 'following_received': None, 'following_requested': None}, id=783214, id_str='783214', screen_name='Twitter', following=False, followed_by=False, following_received=None, following_requested=None))"
      ]
     },
     "execution_count": 9,
     "metadata": {},
     "output_type": "execute_result"
    }
   ],
   "source": [
    "api.show_friendship(source_id=1006576427423227905, target_id=783214)"
   ]
  },
  {
   "cell_type": "markdown",
   "metadata": {},
   "source": [
    "### 2.1.4 Els tweets"
   ]
  },
  {
   "cell_type": "markdown",
   "metadata": {},
   "source": [
    "Els **tweets** són les unitats bàsiques de comunicació entre els usuaris de Twitter. Tots els tweets tenen associat un identificador únic dins de la xarxa, i contenen el text d'aquest.\n",
    "\n",
    "A més de l'identificador i del text que comuniquen, també contenen informació sobre el moment en què es van crear (el dia i l'hora), com també dades de l'aplicació utilitzada per l'usuari per a crear el tweet (els tweets creats amb la interfície web de Twitter contenen simplement la cadena «web» com a identificador d'aplicació d'origen), entre altres atributs. En la documentació de l'API de Twitter, trobareu una descripció de tots els atributs que tenen els objectes [tweet](https://developer.twitter.com/en/docs/tweets/data-dictionary/overview/tweet-object) de l'API de Twitter. \n",
    "\n"
   ]
  },
  {
   "cell_type": "markdown",
   "metadata": {},
   "source": [
    "Vegem com podem usar el mètode  [`get_status`](http://docs.tweepy.org/en/v3.5.0/api.html?highlight=get_status#API.get_status) de Tweepy per a obtenir dades d'un usuari de Twitter:"
   ]
  },
  {
   "cell_type": "code",
   "execution_count": 10,
   "metadata": {
    "scrolled": true
   },
   "outputs": [
    {
     "name": "stdout",
     "output_type": "stream",
     "text": [
      "El tipus de dades de la variable status és: <class 'tweepy.models.Status'>\n",
      "L'id del tweet és: 990518384407318528\n",
      "El text del tweet és: Las Claves del RGPD en nueve Puntos! Con la entrada en vigor del RGPD las empresas deben tomarse muy en serio la pr… https://t.co/Pe4QzyUJA3\n"
     ]
    }
   ],
   "source": [
    "# Obtenim l'objecte status, que representa un tweet.\n",
    "# Es pot accedir a un tweet a través del seu id.\n",
    "status = api.get_status(990518384407318528)\n",
    "\n",
    "print(\"El tipus de dades de la variable status és: {}\".format(type(status)))\n",
    "print(\"L'id del tweet és: {}\".format(status.id))\n",
    "print(\"El text del tweet és: {}\".format(status.text))\n"
   ]
  },
  {
   "cell_type": "markdown",
   "metadata": {},
   "source": [
    "Observeu que el text del tweet està codificat amb [unicode](https://docs.python.org/2/howto/unicode.html):"
   ]
  },
  {
   "cell_type": "code",
   "execution_count": 11,
   "metadata": {},
   "outputs": [],
   "source": [
    "if sys.version_info[0] == 2:\n",
    "    isinstance(status.text, unicode)\n",
    "elif sys.version_info[0] == 3:\n",
    "    # in Python 3, strings are unicode:\n",
    "    isinstance(status.text, str)"
   ]
  },
  {
   "cell_type": "markdown",
   "metadata": {},
   "source": [
    "Com hem vist, els usuaris de Twitter creen relacions explícites entre ells mitjançant les relacions de seguiment. D'una manera similar, els *tweets* també poden crear relacions explícites entre ells. És el cas dels *retweets*, que són la republicació d'un *tweet*, els *quotes*, que permeten també republicar un *tweet* però afegint-hi un comentari, i els replies, que permeten respondre a un *tweet*."
   ]
  },
  {
   "cell_type": "code",
   "execution_count": 12,
   "metadata": {},
   "outputs": [
    {
     "name": "stdout",
     "output_type": "stream",
     "text": [
      "El tweet està republicant el tweet amb id : 1029823889365450752\n",
      "El tweet està republicant un tweet de l'usuari amb id : 1469101279\n",
      "El tweet original té com a text: Bitcoin Q&amp;A: Why I'm against ETFs https://t.co/8mQtKJgy0L\n"
     ]
    }
   ],
   "source": [
    "# Recuperem un tweet que republica un altre tweet, és a dir, un retweet\n",
    "a_retweet = api.get_status(1030046532064747522)\n",
    "\n",
    "# Mostrem dades del tweet que s'està republicant\n",
    "retweeted_status = a_retweet.retweeted_status\n",
    "print(\"El tweet està republicant el tweet amb id : {}\".format(retweeted_status.id))\n",
    "print(\"El tweet està republicant un tweet de l'usuari amb id : {}\".format(retweeted_status.user.id))\n",
    "print(\"El tweet original té com a text: {}\".format(retweeted_status.text))"
   ]
  },
  {
   "cell_type": "code",
   "execution_count": 13,
   "metadata": {},
   "outputs": [
    {
     "name": "stdout",
     "output_type": "stream",
     "text": [
      "El tweet està responent al tweet amb id : 1029894625249509376\n",
      "El tweet està responent a l'usuari amb id : 2568108282\n"
     ]
    }
   ],
   "source": [
    "# Recuperem un tweet que respon a un altre tweet, és a dir, un reply\n",
    "a_reply = api.get_status(1029918429992689665)\n",
    "\n",
    "# Mostrem a quin tweet es respon i qui ha estat el seu autor\n",
    "print(\"El tweet està responent al tweet amb id : {}\".format(a_reply.in_reply_to_status_id))\n",
    "print(\"El tweet està responent a l'usuari amb id : {}\".format(a_reply.in_reply_to_user_id))"
   ]
  },
  {
   "cell_type": "code",
   "execution_count": 14,
   "metadata": {},
   "outputs": [
    {
     "name": "stdout",
     "output_type": "stream",
     "text": [
      "El tweet està comentant el tweet amb id : 1029112398555176961\n",
      "El tweet està comentant l'usuari amb id : 297564170\n",
      "El tweet original té com a text: WOW! @CapitalOne Just froze my bank account (and all $309,000 of cash I had collected for an upcoming house purchas… https://t.co/khmv9vfZvp\n"
     ]
    }
   ],
   "source": [
    "# Recuperem un tweet que comenta un altre tweet, és a dir, un quote\n",
    "a_quote = api.get_status(1029401266999447552)\n",
    "\n",
    "# Mostrem el tweet que es comenta\n",
    "print(\"El tweet està comentant el tweet amb id : {}\".format(a_quote.quoted_status_id))\n",
    "quoted_status = a_quote.quoted_status\n",
    "print(\"El tweet està comentant l'usuari amb id : {}\".format(quoted_status.user.id))\n",
    "print(\"El tweet original té com a text: {}\".format(quoted_status.text))"
   ]
  },
  {
   "cell_type": "markdown",
   "metadata": {},
   "source": [
    "Observeu que els tipus de dades que s'obtenen en cada cas no són sempre els mateixos, per la qual cosa caldrà anar amb compte a l'hora de treballar amb aquests mètodes. Per exemple,`retweeted_status` és un objecte tweet de Tweepy, mentre que `quoted_status` és un diccionari."
   ]
  },
  {
   "cell_type": "code",
   "execution_count": 15,
   "metadata": {},
   "outputs": [
    {
     "name": "stdout",
     "output_type": "stream",
     "text": [
      "El tipus de dades de retweeted_status és: <class 'tweepy.models.Status'>\n",
      "El tipus de dades de quoted_status és: <class 'tweepy.models.Status'>\n"
     ]
    }
   ],
   "source": [
    "print(\"El tipus de dades de retweeted_status és: {}\".format(type(retweeted_status)))\n",
    "print(\"El tipus de dades de quoted_status és: {}\".format(type(quoted_status)))"
   ]
  },
  {
   "cell_type": "markdown",
   "metadata": {},
   "source": [
    "A més, Tweepy no és tampoc consistent a l'hora de tractar l'accés a camps relatius a característiques no presents en el tweet, un detall que també cal tenir en compte a l'hora d'incorporar aquestes funcionalitats als nostres programes:"
   ]
  },
  {
   "cell_type": "code",
   "execution_count": 16,
   "metadata": {},
   "outputs": [
    {
     "name": "stdout",
     "output_type": "stream",
     "text": [
      "None\n",
      "AttributeError\n",
      "El tweet a_quote és un comentari: True\n",
      "El tweet a_reply és un comentari: False\n"
     ]
    }
   ],
   "source": [
    "# Accedim a in_reply_to_status_id d'un retweet:\n",
    "print(a_retweet.in_reply_to_status_id)\n",
    "\n",
    "# Accedim a retweeted_status d'un reply:\n",
    "try:\n",
    "    a_reply.retweeted_status\n",
    "except AttributeError:\n",
    "    print(\"AttributeError\")\n",
    "    \n",
    "# Disposem d'un booleà que ens indica si un tweet és un quote\n",
    "# però aquest booleà no existeix en cas de replies i retweets\n",
    "print(\"El tweet a_quote és un comentari: {}\".format(a_quote.is_quote_status))\n",
    "print(\"El tweet a_reply és un comentari: {}\".format(a_reply.is_quote_status))"
   ]
  },
  {
   "cell_type": "markdown",
   "metadata": {},
   "source": [
    "A més, els tweets obtinguts de l'API de Twitter contenen també  [entitats](https://developer.twitter.com/en/docs/tweets/data-dictionary/overview/entities-object), un conjunt de metadades addicionals que descriuen dades que s'inclouen habitualment en tweets com a etiquetes (*hashtags*), enllaços, esments a altres usuaris, fitxers incrustats, etc. Podríem obtenir aquestes dades analitzant manualment el text del tweet, però l'API ens els retorna també ja processats.\n"
   ]
  },
  {
   "cell_type": "code",
   "execution_count": 17,
   "metadata": {},
   "outputs": [
    {
     "data": {
      "text/plain": [
       "{'hashtags': [],\n",
       " 'symbols': [],\n",
       " 'user_mentions': [],\n",
       " 'urls': [{'url': 'https://t.co/Pe4QzyUJA3',\n",
       "   'expanded_url': 'https://twitter.com/i/web/status/990518384407318528',\n",
       "   'display_url': 'twitter.com/i/web/status/9…',\n",
       "   'indices': [117, 140]}]}"
      ]
     },
     "execution_count": 17,
     "metadata": {},
     "output_type": "execute_result"
    }
   ],
   "source": [
    "# Mostrem les entitats del tweet status\n",
    "status.entities"
   ]
  },
  {
   "cell_type": "markdown",
   "metadata": {},
   "source": [
    "Algunes vegades, els tweets contenen també informació sobre el [lloc](https://developer.twitter.com/en/docs/tweets/data-dictionary/overview/geo-objects) des del qual es van enviar a la xarxa, sigui en forma de punts exactes, indicats a partir de les seves coordenades geogràfiques, o bé a través de «llocs» delimitats sobre una zona més àmplia.  "
   ]
  },
  {
   "cell_type": "code",
   "execution_count": 18,
   "metadata": {},
   "outputs": [
    {
     "name": "stdout",
     "output_type": "stream",
     "text": [
      "Place(_api=<tweepy.api.API object at 0x10c56bb00>, id='006523c50dfe9086', url='https://api.twitter.com/1.1/geo/id/006523c50dfe9086.json', place_type='city', name='Quezon City', full_name='Quezon City, National Capital Region', country_code='PH', country='Republic of the Philippines', contained_within=[], bounding_box=BoundingBox(_api=<tweepy.api.API object at 0x10c56bb00>, type='Polygon', coordinates=[[[120.989705, 14.5893763], [121.1357656, 14.5893763], [121.1357656, 14.7766484], [120.989705, 14.7766484]]]), attributes={})\n"
     ]
    }
   ],
   "source": [
    "# Exemple d'un tweet vinculat a un lloc de Twitter\n",
    "status_with_place = api.get_status(1030787428125032448)\n",
    "print(status_with_place.place)"
   ]
  },
  {
   "cell_type": "code",
   "execution_count": 19,
   "metadata": {},
   "outputs": [
    {
     "name": "stdout",
     "output_type": "stream",
     "text": [
      "{'type': 'Point', 'coordinates': [-74.0064, 40.7142]}\n"
     ]
    }
   ],
   "source": [
    "# Exemple d'un tweet amb coordenades geogràfiques\n",
    "status_with_coord = api.get_status(1030808412286636034)\n",
    "print(status_with_coord.coordinates)"
   ]
  },
  {
   "cell_type": "markdown",
   "metadata": {},
   "source": [
    "## 3. Web crawling"
   ]
  },
  {
   "cell_type": "markdown",
   "metadata": {},
   "source": [
    "De vegades, necessitarem accedir a dades que estan publicades a internet però per a les quals no hi ha un fitxer que puguem descarregar ni una API a la qual puguem fer consultes. En aquests casos, pot ser útil crear un petit crawler, és a dir, un programa que rastregi les pàgines web que continguin les dades d'interès, els analitzi i els recopili en algun fitxer d'emmagatzematge persistent, perquè puguin ser usats posteriorment per a les nostres anàlisis.\n",
    "\n",
    "<span style=\"color:blue\">[Scrapy](httpscrapy.org/) és una llibreria de Python que proporciona un _framework_ per a l'extracció de dades de pàgines web. Podeu veure una introducció a l'ús de Scrapy i un exemple d'ús en el notebook de la Unitat 5 de l'assignatura Programació en Python.</span>"
   ]
  },
  {
   "cell_type": "markdown",
   "metadata": {},
   "source": [
    "Vegem un exemple de com usar Scrapy per a extreure dades de xarxes socials extraient els contactes d'un usuari de Flickr, una xarxa centrada en la compartició d'imatges i vídeos.\n",
    "\n",
    "Podem obtenir un llistat dels contactes d'un usuari de Flickr accedint al seu perfil. Així, per exemple, trobarem els contactes de l'usuari `egofreed` en la url següent:\n",
    "\n",
    "https://www.flickr.com/people/egofreed/contacts\n",
    "\n",
    "Si volem extreure els noms dels usuaris que conformen els contactes d'aquest usuari, haurem d'observar l'html d'aquesta pàgina, per veure on podem trobar aquesta informació. \n",
    "\n",
    "Com es pot apreciar, les dades que volem recopilar (els noms d'usuari dels contactes) es troben en múltiples atributs. Si ens fixem en el primer contacte,"
   ]
  },
  {
   "cell_type": "raw",
   "metadata": {},
   "source": [
    "<td class=\"Icon\">\n",
    "    <a href=\"/photos/cristinamerz/\" rel=\"contact\">\n",
    "        <img src=\"https://farm5.staticflickr.com/4189/buddyicons/41340456@N04.jpg?1493986404#41340456@N04\" alt=\"\" width=\"48\" height=\"48\" border=\"0\" class=\"BuddyIconX\">\n",
    "    </a>\n",
    "</td>\n",
    "\t\t\t\n",
    "<td class=\"Who\">\n",
    "    <h2>˙Ↄ</h2>\n",
    "    <p>1,153 \n",
    "        <a href=\"/photos/cristinamerz/\" rel=\"contact\">items</a> view her \n",
    "        <a href=\"/people/cristinamerz/\" rel=\"contact\">profile</a>\n",
    "    </p>\n",
    "</td>"
   ]
  },
  {
   "cell_type": "markdown",
   "metadata": {},
   "source": [
    "podem veure com el nom d'usuari, `cristinamerz`, apareix en tres enllaços diferents. Per tant, podem seleccionar-ne qualsevol per a extreure la dada d'interès. En el nostre cas, seleccionarem l'últim dels enllaços. Així, doncs, crearem una expressió xpath que seleccioni l'atribut href d'un hipervincle (un element assenyalat amb l'etiqueta `<a>`) que té com a atribut `rel` el valor «contact» i, de les tres coincidències que obtindrem, ens quedarem únicament amb l'última. L'expressió xpath que ens permet fer aquesta selecció és:\n",
    "\n",
    "```\n",
    "//a[@rel=\"contact\"][2]/@href\n",
    "```\n",
    "\n",
    "Una vegada tenim l'expressió xpath que selecciona les dades d'interès, ja podem programar la nostra aranya perquè els extregui.\n",
    "\n",
    "**Nota**: Si l'execució del *crawler* us retorna un error  `ReactorNotRestartable`, reinicieu el kernel del notebook (en el menú, `Kernel` - `Restart`).\n"
   ]
  },
  {
   "cell_type": "code",
   "execution_count": 20,
   "metadata": {},
   "outputs": [
    {
     "name": "stderr",
     "output_type": "stream",
     "text": [
      "2019-09-02 17:47:04 [scrapy.utils.log] INFO: Scrapy 1.7.2 started (bot: scrapybot)\n",
      "2019-09-02 17:47:04 [scrapy.utils.log] INFO: Versions: lxml 4.2.5.0, libxml2 2.9.8, cssselect 1.0.3, parsel 1.5.1, w3lib 1.20.0, Twisted 19.2.1, Python 3.6.7 (v3.6.7:6ec5cf24b7, Oct 20 2018, 03:02:14) - [GCC 4.2.1 Compatible Apple LLVM 6.0 (clang-600.0.57)], pyOpenSSL 19.0.0 (OpenSSL 1.1.1c  28 May 2019), cryptography 2.7, Platform Darwin-18.7.0-x86_64-i386-64bit\n",
      "2019-09-02 17:47:04 [scrapy.crawler] INFO: Overridden settings: {'USER_AGENT': 'Mozilla/4.0 (compatible; MSIE 7.0; Windows NT 5.1)'}\n",
      "2019-09-02 17:47:04 [scrapy.extensions.telnet] INFO: Telnet Password: 1279461d64d01323\n",
      "2019-09-02 17:47:04 [scrapy.middleware] INFO: Enabled extensions:\n",
      "['scrapy.extensions.corestats.CoreStats',\n",
      " 'scrapy.extensions.telnet.TelnetConsole',\n",
      " 'scrapy.extensions.memusage.MemoryUsage',\n",
      " 'scrapy.extensions.logstats.LogStats']\n",
      "2019-09-02 17:47:04 [scrapy.middleware] INFO: Enabled downloader middlewares:\n",
      "['scrapy.downloadermiddlewares.httpauth.HttpAuthMiddleware',\n",
      " 'scrapy.downloadermiddlewares.downloadtimeout.DownloadTimeoutMiddleware',\n",
      " 'scrapy.downloadermiddlewares.defaultheaders.DefaultHeadersMiddleware',\n",
      " 'scrapy.downloadermiddlewares.useragent.UserAgentMiddleware',\n",
      " 'scrapy.downloadermiddlewares.retry.RetryMiddleware',\n",
      " 'scrapy.downloadermiddlewares.redirect.MetaRefreshMiddleware',\n",
      " 'scrapy.downloadermiddlewares.httpcompression.HttpCompressionMiddleware',\n",
      " 'scrapy.downloadermiddlewares.redirect.RedirectMiddleware',\n",
      " 'scrapy.downloadermiddlewares.cookies.CookiesMiddleware',\n",
      " 'scrapy.downloadermiddlewares.httpproxy.HttpProxyMiddleware',\n",
      " 'scrapy.downloadermiddlewares.stats.DownloaderStats']\n",
      "2019-09-02 17:47:04 [scrapy.middleware] INFO: Enabled spider middlewares:\n",
      "['scrapy.spidermiddlewares.httperror.HttpErrorMiddleware',\n",
      " 'scrapy.spidermiddlewares.offsite.OffsiteMiddleware',\n",
      " 'scrapy.spidermiddlewares.referer.RefererMiddleware',\n",
      " 'scrapy.spidermiddlewares.urllength.UrlLengthMiddleware',\n",
      " 'scrapy.spidermiddlewares.depth.DepthMiddleware']\n",
      "2019-09-02 17:47:04 [scrapy.middleware] INFO: Enabled item pipelines:\n",
      "[]\n",
      "2019-09-02 17:47:04 [scrapy.core.engine] INFO: Spider opened\n",
      "2019-09-02 17:47:04 [scrapy.extensions.logstats] INFO: Crawled 0 pages (at 0 pages/min), scraped 0 items (at 0 items/min)\n",
      "2019-09-02 17:47:04 [scrapy.extensions.telnet] INFO: Telnet console listening on 127.0.0.1:6023\n",
      "2019-09-02 17:47:05 [scrapy.core.engine] DEBUG: Crawled (200) <GET https://www.flickr.com/people/egofreed/contacts> (referer: None)\n",
      "2019-09-02 17:47:05 [scrapy.core.scraper] DEBUG: Scraped from <200 https://www.flickr.com/people/egofreed/contacts>\n",
      "{'contact_username': '118948217@N06'}\n",
      "2019-09-02 17:47:05 [scrapy.core.scraper] DEBUG: Scraped from <200 https://www.flickr.com/people/egofreed/contacts>\n",
      "{'contact_username': '90734269@N07'}\n",
      "2019-09-02 17:47:05 [scrapy.core.scraper] DEBUG: Scraped from <200 https://www.flickr.com/people/egofreed/contacts>\n",
      "{'contact_username': 'aberlin2009'}\n",
      "2019-09-02 17:47:05 [scrapy.core.scraper] DEBUG: Scraped from <200 https://www.flickr.com/people/egofreed/contacts>\n",
      "{'contact_username': 'adegsm'}\n",
      "2019-09-02 17:47:05 [scrapy.core.scraper] DEBUG: Scraped from <200 https://www.flickr.com/people/egofreed/contacts>\n",
      "{'contact_username': 'al-ien'}\n",
      "2019-09-02 17:47:05 [scrapy.core.scraper] DEBUG: Scraped from <200 https://www.flickr.com/people/egofreed/contacts>\n",
      "{'contact_username': 'al209'}\n",
      "2019-09-02 17:47:05 [scrapy.core.scraper] DEBUG: Scraped from <200 https://www.flickr.com/people/egofreed/contacts>\n",
      "{'contact_username': 'alfredlockwood'}\n",
      "2019-09-02 17:47:05 [scrapy.core.scraper] DEBUG: Scraped from <200 https://www.flickr.com/people/egofreed/contacts>\n",
      "{'contact_username': '65814135@N03'}\n",
      "2019-09-02 17:47:05 [scrapy.core.scraper] DEBUG: Scraped from <200 https://www.flickr.com/people/egofreed/contacts>\n",
      "{'contact_username': 'anasilva'}\n",
      "2019-09-02 17:47:05 [scrapy.core.scraper] DEBUG: Scraped from <200 https://www.flickr.com/people/egofreed/contacts>\n",
      "{'contact_username': 'andredekesel'}\n",
      "2019-09-02 17:47:05 [scrapy.core.scraper] DEBUG: Scraped from <200 https://www.flickr.com/people/egofreed/contacts>\n",
      "{'contact_username': 'jaceballos'}\n",
      "2019-09-02 17:47:05 [scrapy.core.scraper] DEBUG: Scraped from <200 https://www.flickr.com/people/egofreed/contacts>\n",
      "{'contact_username': 'ajmguerra'}\n",
      "2019-09-02 17:47:05 [scrapy.core.scraper] DEBUG: Scraped from <200 https://www.flickr.com/people/egofreed/contacts>\n",
      "{'contact_username': 'arshiphotographer'}\n",
      "2019-09-02 17:47:05 [scrapy.core.scraper] DEBUG: Scraped from <200 https://www.flickr.com/people/egofreed/contacts>\n",
      "{'contact_username': '30576530@N04'}\n",
      "2019-09-02 17:47:05 [scrapy.core.scraper] DEBUG: Scraped from <200 https://www.flickr.com/people/egofreed/contacts>\n",
      "{'contact_username': '126805965@N03'}\n",
      "2019-09-02 17:47:05 [scrapy.core.scraper] DEBUG: Scraped from <200 https://www.flickr.com/people/egofreed/contacts>\n",
      "{'contact_username': 'benspics2433'}\n",
      "2019-09-02 17:47:05 [scrapy.core.scraper] DEBUG: Scraped from <200 https://www.flickr.com/people/egofreed/contacts>\n",
      "{'contact_username': '154236423@N02'}\n",
      "2019-09-02 17:47:05 [scrapy.core.scraper] DEBUG: Scraped from <200 https://www.flickr.com/people/egofreed/contacts>\n",
      "{'contact_username': '41199470@N02'}\n",
      "2019-09-02 17:47:05 [scrapy.core.scraper] DEBUG: Scraped from <200 https://www.flickr.com/people/egofreed/contacts>\n",
      "{'contact_username': '43833870@N03'}\n",
      "2019-09-02 17:47:05 [scrapy.core.scraper] DEBUG: Scraped from <200 https://www.flickr.com/people/egofreed/contacts>\n",
      "{'contact_username': 'georgebarbara'}\n",
      "2019-09-02 17:47:05 [scrapy.core.scraper] DEBUG: Scraped from <200 https://www.flickr.com/people/egofreed/contacts>\n",
      "{'contact_username': 'birdwatcher_1406'}\n",
      "2019-09-02 17:47:05 [scrapy.core.scraper] DEBUG: Scraped from <200 https://www.flickr.com/people/egofreed/contacts>\n",
      "{'contact_username': 'blackhawk32'}\n",
      "2019-09-02 17:47:05 [scrapy.core.scraper] DEBUG: Scraped from <200 https://www.flickr.com/people/egofreed/contacts>\n",
      "{'contact_username': 'bonnie_grzesiak'}\n",
      "2019-09-02 17:47:05 [scrapy.core.scraper] DEBUG: Scraped from <200 https://www.flickr.com/people/egofreed/contacts>\n",
      "{'contact_username': 'bradontca'}\n",
      "2019-09-02 17:47:05 [scrapy.core.scraper] DEBUG: Scraped from <200 https://www.flickr.com/people/egofreed/contacts>\n",
      "{'contact_username': 'brandonsphoto'}\n",
      "2019-09-02 17:47:05 [scrapy.core.scraper] DEBUG: Scraped from <200 https://www.flickr.com/people/egofreed/contacts>\n",
      "{'contact_username': '132828400@N06'}\n",
      "2019-09-02 17:47:05 [scrapy.core.scraper] DEBUG: Scraped from <200 https://www.flickr.com/people/egofreed/contacts>\n",
      "{'contact_username': 'bug_gl'}\n",
      "2019-09-02 17:47:05 [scrapy.core.scraper] DEBUG: Scraped from <200 https://www.flickr.com/people/egofreed/contacts>\n",
      "{'contact_username': '94803194@N08'}\n",
      "2019-09-02 17:47:05 [scrapy.core.scraper] DEBUG: Scraped from <200 https://www.flickr.com/people/egofreed/contacts>\n",
      "{'contact_username': 'carol_collins'}\n",
      "2019-09-02 17:47:05 [scrapy.core.scraper] DEBUG: Scraped from <200 https://www.flickr.com/people/egofreed/contacts>\n",
      "{'contact_username': '82426287@N04'}\n",
      "2019-09-02 17:47:05 [scrapy.core.engine] INFO: Closing spider (finished)\n",
      "2019-09-02 17:47:05 [scrapy.statscollectors] INFO: Dumping Scrapy stats:\n",
      "{'downloader/request_bytes': 253,\n",
      " 'downloader/request_count': 1,\n",
      " 'downloader/request_method_count/GET': 1,\n",
      " 'downloader/response_bytes': 33005,\n",
      " 'downloader/response_count': 1,\n",
      " 'downloader/response_status_count/200': 1,\n",
      " 'elapsed_time_seconds': 0.873676,\n",
      " 'finish_reason': 'finished',\n",
      " 'finish_time': datetime.datetime(2019, 9, 2, 15, 47, 5, 315201),\n",
      " 'item_scraped_count': 30,\n",
      " 'log_count/DEBUG': 31,\n",
      " 'log_count/INFO': 10,\n",
      " 'memusage/max': 83247104,\n",
      " 'memusage/startup': 83247104,\n",
      " 'response_received_count': 1,\n",
      " 'scheduler/dequeued': 1,\n",
      " 'scheduler/dequeued/memory': 1,\n",
      " 'scheduler/enqueued': 1,\n",
      " 'scheduler/enqueued/memory': 1,\n",
      " 'start_time': datetime.datetime(2019, 9, 2, 15, 47, 4, 441525)}\n",
      "2019-09-02 17:47:05 [scrapy.core.engine] INFO: Spider closed (finished)\n"
     ]
    }
   ],
   "source": [
    "# Importem scrapy\n",
    "import scrapy\n",
    "from scrapy.crawler import CrawlerProcess\n",
    "\n",
    "# Creem la aranya.\n",
    "class uoc_flickr_spider(scrapy.Spider):\n",
    "    \n",
    "    # Assignem un nom a l'aranya\n",
    "    name = \"uoc_flickr_spider\"\n",
    "    \n",
    "    # Indiquem la url que volem analitzar en primer lloc.\n",
    "    start_urls = [\n",
    "        \"https://www.flickr.com/people/egofreed/contacts\"\n",
    "    ]\n",
    "\n",
    "    # Definim l'analitzador\n",
    "    def parse(self, response):\n",
    "        # Extraiem el nom d'usuari del contacte\n",
    "        for contact in response.xpath('//a[@rel=\"contact\"][2]/@href'):\n",
    "            yield {\n",
    "                # Ens quedem únicament amb el nom d'usuari\n",
    "                'contact_username': contact.extract()[8:-1]\n",
    "            }\n",
    "            \n",
    "if __name__ == \"__main__\":\n",
    "\n",
    "    # Creem un crawler.\n",
    "    process = CrawlerProcess({\n",
    "        'USER_AGENT': 'Mozilla/4.0 (compatible; MSIE 7.0; Windows NT 5.1)',\n",
    "        'DOWNLOAD_HANDLERS': {'s3': None},\n",
    "        'LOG_ENABLED': True\n",
    "    })\n",
    "\n",
    "    # Inicialitzem el crawler amb la nostra aranya\n",
    "    process.crawl(uoc_flickr_spider)\n",
    "    \n",
    "    # Llancem l'aranya\n",
    "    process.start()"
   ]
  },
  {
   "cell_type": "markdown",
   "metadata": {},
   "source": [
    "En el log de l'execució de Scrapy podrem veure el resultat del nostre crawling, amb els noms d'usuari dels contactes de Flickr de l'usuari `egofreed`."
   ]
  },
  {
   "cell_type": "raw",
   "metadata": {},
   "source": [
    "DEBUG:scrapy.core.scraper:Scraped from <200 https://www.flickr.com/people/egofreed/contacts>\n",
    "{'contact_username': u'cristinamerz'}\n",
    "DEBUG:scrapy.core.scraper:Scraped from <200 https://www.flickr.com/people/egofreed/contacts>\n",
    "{'contact_username': u'mike-mkvip'}\n",
    "DEBUG:scrapy.core.scraper:Scraped from <200 https://www.flickr.com/people/egofreed/contacts>\n",
    "{'contact_username': u'big-e-mr-g'}\n",
    "..."
   ]
  },
  {
   "cell_type": "code",
   "execution_count": null,
   "metadata": {},
   "outputs": [],
   "source": []
  }
 ],
 "metadata": {
  "kernelspec": {
   "display_name": "Python 3 (ipykernel)",
   "language": "python",
   "name": "python3"
  },
  "language_info": {
   "codemirror_mode": {
    "name": "ipython",
    "version": 3
   },
   "file_extension": ".py",
   "mimetype": "text/x-python",
   "name": "python",
   "nbconvert_exporter": "python",
   "pygments_lexer": "ipython3",
   "version": "3.8.8"
  }
 },
 "nbformat": 4,
 "nbformat_minor": 4
}
